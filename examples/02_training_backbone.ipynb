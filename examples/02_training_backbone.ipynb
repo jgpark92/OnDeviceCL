{
 "cells": [
  {
   "cell_type": "code",
   "execution_count": 1,
   "metadata": {},
   "outputs": [
    {
     "name": "stdout",
     "output_type": "stream",
     "text": [
      "TensorFlow version: 2.10.1\n"
     ]
    }
   ],
   "source": [
    "import matplotlib.pyplot as plt\n",
    "import numpy as np\n",
    "import tensorflow as tf\n",
    "\n",
    "print(\"TensorFlow version:\", tf.__version__)"
   ]
  },
  {
   "cell_type": "code",
   "execution_count": 4,
   "metadata": {},
   "outputs": [],
   "source": [
    "data_path = \"../Data/KU-HAR/deploy\"\n",
    "train_X = np.load(data_path+'/train_x.npy')\n",
    "train_Y = np.load(data_path+'/train_y.npy')\n",
    "test_X = np.load(data_path+'/test_x.npy')\n",
    "test_Y = np.load(data_path+'/test_y.npy')\n",
    "\n",
    "train_dataset = tf.data.Dataset.from_tensor_slices((train_X, train_Y))\n",
    "test_dataset = tf.data.Dataset.from_tensor_slices((test_X, test_Y))\n",
    "\n",
    "BATCH_SIZE = 64\n",
    "SHUFFLE_BUFFER_SIZE = 100\n",
    "\n",
    "train_dataset = train_dataset.shuffle(SHUFFLE_BUFFER_SIZE).batch(BATCH_SIZE)\n",
    "test_dataset = test_dataset.batch(BATCH_SIZE)"
   ]
  },
  {
   "cell_type": "code",
   "execution_count": 5,
   "metadata": {},
   "outputs": [
    {
     "name": "stdout",
     "output_type": "stream",
     "text": [
      "(16524, 300, 6)\n",
      "(16524, 18)\n"
     ]
    }
   ],
   "source": [
    "print(train_X.shape)\n",
    "print(train_Y.shape)"
   ]
  },
  {
   "cell_type": "code",
   "execution_count": 16,
   "metadata": {},
   "outputs": [],
   "source": [
    "input_nc = 6\n",
    "segment_size = 300\n",
    "class_num = 18\n",
    "\n",
    "class Model(tf.keras.Model):\n",
    "\n",
    "  def __init__(self):\n",
    "    super(Model, self).__init__()\n",
    "    self.backbone = tf.keras.Sequential([\n",
    "        tf.keras.layers.Conv1D(64, 3, strides=1, padding='SAME', activation='relu', input_shape=(segment_size, input_nc)),\n",
    "        tf.keras.layers.MaxPooling1D(pool_size=2),\n",
    "        tf.keras.layers.Conv1D(128, 3, strides=1, padding='SAME', activation='relu'),\n",
    "        tf.keras.layers.Conv1D(128, 3, strides=1, padding='SAME', activation='relu'),\n",
    "        tf.keras.layers.GlobalAveragePooling1D(data_format='channels_last'),\n",
    "    ])\n",
    "\n",
    "    self.fc = tf.keras.layers.Dense(class_num, name='dense_1')\n",
    "\n",
    "  def call(self, x, training=True):\n",
    "    features = self.backbone(x)\n",
    "    return self.fc(features)\n"
   ]
  },
  {
   "cell_type": "code",
   "execution_count": 17,
   "metadata": {},
   "outputs": [
    {
     "name": "stdout",
     "output_type": "stream",
     "text": [
      "Epoch 1/300\n",
      "259/259 - 6s - loss: 8.8532 - accuracy: 0.0228 - val_loss: 9.0754 - val_accuracy: 0.0208 - lr: 0.1000 - 6s/epoch - 22ms/step\n",
      "Epoch 2/300\n",
      "259/259 - 1s - loss: 9.0306 - accuracy: 0.0225 - val_loss: 9.0754 - val_accuracy: 0.0208 - lr: 0.1000 - 767ms/epoch - 3ms/step\n",
      "Epoch 3/300\n",
      "259/259 - 1s - loss: 9.0306 - accuracy: 0.0225 - val_loss: 9.0754 - val_accuracy: 0.0208 - lr: 0.1000 - 763ms/epoch - 3ms/step\n",
      "Epoch 4/300\n",
      "259/259 - 1s - loss: 9.0306 - accuracy: 0.0225 - val_loss: 9.0754 - val_accuracy: 0.0208 - lr: 0.1000 - 763ms/epoch - 3ms/step\n",
      "Epoch 5/300\n",
      "259/259 - 1s - loss: 9.0306 - accuracy: 0.0225 - val_loss: 9.0754 - val_accuracy: 0.0208 - lr: 0.1000 - 774ms/epoch - 3ms/step\n",
      "Epoch 6/300\n",
      "259/259 - 1s - loss: 9.0306 - accuracy: 0.0225 - val_loss: 9.0754 - val_accuracy: 0.0208 - lr: 0.1000 - 765ms/epoch - 3ms/step\n",
      "Epoch 7/300\n",
      "259/259 - 1s - loss: 9.0306 - accuracy: 0.0225 - val_loss: 9.0754 - val_accuracy: 0.0208 - lr: 0.1000 - 776ms/epoch - 3ms/step\n",
      "Epoch 8/300\n",
      "259/259 - 1s - loss: 9.0306 - accuracy: 0.0225 - val_loss: 9.0754 - val_accuracy: 0.0208 - lr: 0.1000 - 781ms/epoch - 3ms/step\n",
      "Epoch 9/300\n",
      "259/259 - 1s - loss: 9.0306 - accuracy: 0.0225 - val_loss: 9.0754 - val_accuracy: 0.0208 - lr: 0.1000 - 776ms/epoch - 3ms/step\n",
      "Epoch 10/300\n",
      "259/259 - 1s - loss: 9.0306 - accuracy: 0.0225 - val_loss: 9.0754 - val_accuracy: 0.0208 - lr: 0.1000 - 766ms/epoch - 3ms/step\n",
      "Epoch 11/300\n",
      "259/259 - 1s - loss: 9.0306 - accuracy: 0.0225 - val_loss: 9.0754 - val_accuracy: 0.0208 - lr: 0.1000 - 766ms/epoch - 3ms/step\n",
      "Epoch 12/300\n",
      "259/259 - 1s - loss: 9.0306 - accuracy: 0.0225 - val_loss: 9.0754 - val_accuracy: 0.0208 - lr: 0.1000 - 772ms/epoch - 3ms/step\n",
      "Epoch 13/300\n",
      "259/259 - 1s - loss: 9.0306 - accuracy: 0.0225 - val_loss: 9.0754 - val_accuracy: 0.0208 - lr: 0.1000 - 769ms/epoch - 3ms/step\n",
      "Epoch 14/300\n",
      "259/259 - 1s - loss: 9.0306 - accuracy: 0.0225 - val_loss: 9.0754 - val_accuracy: 0.0208 - lr: 0.1000 - 766ms/epoch - 3ms/step\n",
      "Epoch 15/300\n",
      "259/259 - 1s - loss: 9.0306 - accuracy: 0.0225 - val_loss: 9.0754 - val_accuracy: 0.0208 - lr: 0.1000 - 760ms/epoch - 3ms/step\n",
      "Epoch 16/300\n",
      "259/259 - 1s - loss: 9.0306 - accuracy: 0.0225 - val_loss: 9.0754 - val_accuracy: 0.0208 - lr: 0.1000 - 770ms/epoch - 3ms/step\n",
      "Epoch 17/300\n",
      "259/259 - 1s - loss: 9.0306 - accuracy: 0.0225 - val_loss: 9.0754 - val_accuracy: 0.0208 - lr: 0.1000 - 776ms/epoch - 3ms/step\n",
      "Epoch 18/300\n",
      "259/259 - 1s - loss: 9.0306 - accuracy: 0.0225 - val_loss: 9.0754 - val_accuracy: 0.0208 - lr: 0.1000 - 766ms/epoch - 3ms/step\n",
      "Epoch 19/300\n",
      "259/259 - 1s - loss: 9.0306 - accuracy: 0.0225 - val_loss: 9.0754 - val_accuracy: 0.0208 - lr: 0.1000 - 767ms/epoch - 3ms/step\n",
      "Epoch 20/300\n",
      "259/259 - 1s - loss: 9.0306 - accuracy: 0.0225 - val_loss: 9.0754 - val_accuracy: 0.0208 - lr: 0.1000 - 765ms/epoch - 3ms/step\n",
      "Epoch 21/300\n",
      "259/259 - 1s - loss: 9.0306 - accuracy: 0.0225 - val_loss: 9.0754 - val_accuracy: 0.0208 - lr: 0.1000 - 771ms/epoch - 3ms/step\n",
      "Epoch 22/300\n",
      "259/259 - 1s - loss: 9.0306 - accuracy: 0.0225 - val_loss: 9.0754 - val_accuracy: 0.0208 - lr: 0.1000 - 773ms/epoch - 3ms/step\n",
      "Epoch 23/300\n",
      "259/259 - 1s - loss: 9.0306 - accuracy: 0.0225 - val_loss: 9.0754 - val_accuracy: 0.0208 - lr: 0.1000 - 769ms/epoch - 3ms/step\n",
      "Epoch 24/300\n",
      "259/259 - 1s - loss: 9.0306 - accuracy: 0.0225 - val_loss: 9.0754 - val_accuracy: 0.0208 - lr: 0.1000 - 777ms/epoch - 3ms/step\n",
      "Epoch 25/300\n",
      "259/259 - 1s - loss: 9.0306 - accuracy: 0.0225 - val_loss: 9.0754 - val_accuracy: 0.0208 - lr: 0.1000 - 780ms/epoch - 3ms/step\n",
      "Epoch 26/300\n",
      "259/259 - 1s - loss: 9.0306 - accuracy: 0.0225 - val_loss: 9.0754 - val_accuracy: 0.0208 - lr: 0.1000 - 773ms/epoch - 3ms/step\n",
      "Epoch 27/300\n",
      "259/259 - 1s - loss: 9.0306 - accuracy: 0.0225 - val_loss: 9.0754 - val_accuracy: 0.0208 - lr: 0.1000 - 762ms/epoch - 3ms/step\n",
      "Epoch 28/300\n",
      "259/259 - 1s - loss: 9.0306 - accuracy: 0.0225 - val_loss: 9.0754 - val_accuracy: 0.0208 - lr: 0.1000 - 781ms/epoch - 3ms/step\n",
      "Epoch 29/300\n",
      "259/259 - 1s - loss: 9.0306 - accuracy: 0.0225 - val_loss: 9.0754 - val_accuracy: 0.0208 - lr: 0.1000 - 773ms/epoch - 3ms/step\n",
      "Epoch 30/300\n",
      "259/259 - 1s - loss: 9.0306 - accuracy: 0.0225 - val_loss: 9.0754 - val_accuracy: 0.0208 - lr: 0.1000 - 772ms/epoch - 3ms/step\n",
      "Epoch 31/300\n",
      "259/259 - 1s - loss: 9.0306 - accuracy: 0.0225 - val_loss: 9.0754 - val_accuracy: 0.0208 - lr: 0.1000 - 760ms/epoch - 3ms/step\n",
      "Epoch 32/300\n",
      "259/259 - 1s - loss: 9.0306 - accuracy: 0.0225 - val_loss: 9.0754 - val_accuracy: 0.0208 - lr: 0.1000 - 763ms/epoch - 3ms/step\n",
      "Epoch 33/300\n",
      "259/259 - 1s - loss: 9.0306 - accuracy: 0.0225 - val_loss: 9.0754 - val_accuracy: 0.0208 - lr: 0.1000 - 768ms/epoch - 3ms/step\n",
      "Epoch 34/300\n",
      "259/259 - 1s - loss: 9.0306 - accuracy: 0.0225 - val_loss: 9.0754 - val_accuracy: 0.0208 - lr: 0.1000 - 770ms/epoch - 3ms/step\n",
      "Epoch 35/300\n",
      "259/259 - 1s - loss: 9.0306 - accuracy: 0.0225 - val_loss: 9.0754 - val_accuracy: 0.0208 - lr: 0.1000 - 766ms/epoch - 3ms/step\n",
      "Epoch 36/300\n",
      "259/259 - 1s - loss: 9.0306 - accuracy: 0.0225 - val_loss: 9.0754 - val_accuracy: 0.0208 - lr: 0.1000 - 777ms/epoch - 3ms/step\n",
      "Epoch 37/300\n",
      "259/259 - 1s - loss: 9.0306 - accuracy: 0.0225 - val_loss: 9.0754 - val_accuracy: 0.0208 - lr: 0.1000 - 764ms/epoch - 3ms/step\n",
      "Epoch 38/300\n",
      "259/259 - 1s - loss: 9.0306 - accuracy: 0.0225 - val_loss: 9.0754 - val_accuracy: 0.0208 - lr: 0.1000 - 767ms/epoch - 3ms/step\n",
      "Epoch 39/300\n",
      "259/259 - 1s - loss: 9.0306 - accuracy: 0.0225 - val_loss: 9.0754 - val_accuracy: 0.0208 - lr: 0.1000 - 782ms/epoch - 3ms/step\n",
      "Epoch 40/300\n",
      "259/259 - 1s - loss: 9.0306 - accuracy: 0.0225 - val_loss: 9.0754 - val_accuracy: 0.0208 - lr: 0.1000 - 771ms/epoch - 3ms/step\n",
      "Epoch 41/300\n",
      "259/259 - 1s - loss: 9.0306 - accuracy: 0.0225 - val_loss: 9.0754 - val_accuracy: 0.0208 - lr: 0.1000 - 770ms/epoch - 3ms/step\n",
      "Epoch 42/300\n",
      "259/259 - 1s - loss: 9.0306 - accuracy: 0.0225 - val_loss: 9.0754 - val_accuracy: 0.0208 - lr: 0.1000 - 773ms/epoch - 3ms/step\n",
      "Epoch 43/300\n",
      "259/259 - 1s - loss: 9.0306 - accuracy: 0.0225 - val_loss: 9.0754 - val_accuracy: 0.0208 - lr: 0.1000 - 766ms/epoch - 3ms/step\n",
      "Epoch 44/300\n",
      "259/259 - 1s - loss: 9.0306 - accuracy: 0.0225 - val_loss: 9.0754 - val_accuracy: 0.0208 - lr: 0.1000 - 768ms/epoch - 3ms/step\n",
      "Epoch 45/300\n",
      "259/259 - 1s - loss: 9.0306 - accuracy: 0.0225 - val_loss: 9.0754 - val_accuracy: 0.0208 - lr: 0.1000 - 769ms/epoch - 3ms/step\n",
      "Epoch 46/300\n",
      "259/259 - 1s - loss: 9.0306 - accuracy: 0.0225 - val_loss: 9.0754 - val_accuracy: 0.0208 - lr: 0.1000 - 784ms/epoch - 3ms/step\n",
      "Epoch 47/300\n",
      "259/259 - 1s - loss: 9.0306 - accuracy: 0.0225 - val_loss: 9.0754 - val_accuracy: 0.0208 - lr: 0.1000 - 765ms/epoch - 3ms/step\n",
      "Epoch 48/300\n",
      "259/259 - 1s - loss: 9.0306 - accuracy: 0.0225 - val_loss: 9.0754 - val_accuracy: 0.0208 - lr: 0.1000 - 770ms/epoch - 3ms/step\n",
      "Epoch 49/300\n",
      "259/259 - 1s - loss: 9.0306 - accuracy: 0.0225 - val_loss: 9.0754 - val_accuracy: 0.0208 - lr: 0.1000 - 778ms/epoch - 3ms/step\n",
      "Epoch 50/300\n",
      "259/259 - 1s - loss: 9.0306 - accuracy: 0.0225 - val_loss: 9.0754 - val_accuracy: 0.0208 - lr: 0.1000 - 784ms/epoch - 3ms/step\n",
      "Epoch 51/300\n",
      "259/259 - 1s - loss: 9.0306 - accuracy: 0.0225 - val_loss: 9.0754 - val_accuracy: 0.0208 - lr: 0.1000 - 780ms/epoch - 3ms/step\n",
      "Epoch 52/300\n",
      "259/259 - 1s - loss: 9.0306 - accuracy: 0.0225 - val_loss: 9.0754 - val_accuracy: 0.0208 - lr: 0.1000 - 789ms/epoch - 3ms/step\n",
      "Epoch 53/300\n",
      "259/259 - 1s - loss: 9.0306 - accuracy: 0.0225 - val_loss: 9.0754 - val_accuracy: 0.0208 - lr: 0.1000 - 779ms/epoch - 3ms/step\n",
      "Epoch 54/300\n",
      "259/259 - 1s - loss: 9.0306 - accuracy: 0.0225 - val_loss: 9.0754 - val_accuracy: 0.0208 - lr: 0.1000 - 799ms/epoch - 3ms/step\n",
      "Epoch 55/300\n",
      "259/259 - 1s - loss: 9.0306 - accuracy: 0.0225 - val_loss: 9.0754 - val_accuracy: 0.0208 - lr: 0.1000 - 804ms/epoch - 3ms/step\n",
      "Epoch 56/300\n",
      "259/259 - 1s - loss: 9.0306 - accuracy: 0.0225 - val_loss: 9.0754 - val_accuracy: 0.0208 - lr: 0.1000 - 800ms/epoch - 3ms/step\n",
      "Epoch 57/300\n"
     ]
    },
    {
     "ename": "KeyboardInterrupt",
     "evalue": "",
     "output_type": "error",
     "traceback": [
      "\u001b[1;31m---------------------------------------------------------------------------\u001b[0m",
      "\u001b[1;31mKeyboardInterrupt\u001b[0m                         Traceback (most recent call last)",
      "Cell \u001b[1;32mIn[17], line 22\u001b[0m\n\u001b[0;32m     19\u001b[0m     \u001b[39mif\u001b[39;00m epoch \u001b[39m>\u001b[39m\u001b[39m=\u001b[39m \u001b[39m225\u001b[39m:\n\u001b[0;32m     20\u001b[0m       \u001b[39mreturn\u001b[39;00m \u001b[39m0.001\u001b[39m\n\u001b[1;32m---> 22\u001b[0m m\u001b[39m.\u001b[39;49mfit(train_dataset, epochs\u001b[39m=\u001b[39;49m\u001b[39m300\u001b[39;49m, validation_data\u001b[39m=\u001b[39;49mtest_dataset,\n\u001b[0;32m     23\u001b[0m         verbose\u001b[39m=\u001b[39;49m\u001b[39m2\u001b[39;49m, callbacks\u001b[39m=\u001b[39;49m[tf\u001b[39m.\u001b[39;49mkeras\u001b[39m.\u001b[39;49mcallbacks\u001b[39m.\u001b[39;49mLearningRateScheduler(\n\u001b[0;32m     24\u001b[0m             decay)])\n",
      "File \u001b[1;32md:\\codes\\PHAR\\.venv\\lib\\site-packages\\keras\\utils\\traceback_utils.py:65\u001b[0m, in \u001b[0;36mfilter_traceback.<locals>.error_handler\u001b[1;34m(*args, **kwargs)\u001b[0m\n\u001b[0;32m     63\u001b[0m filtered_tb \u001b[39m=\u001b[39m \u001b[39mNone\u001b[39;00m\n\u001b[0;32m     64\u001b[0m \u001b[39mtry\u001b[39;00m:\n\u001b[1;32m---> 65\u001b[0m     \u001b[39mreturn\u001b[39;00m fn(\u001b[39m*\u001b[39margs, \u001b[39m*\u001b[39m\u001b[39m*\u001b[39mkwargs)\n\u001b[0;32m     66\u001b[0m \u001b[39mexcept\u001b[39;00m \u001b[39mException\u001b[39;00m \u001b[39mas\u001b[39;00m e:\n\u001b[0;32m     67\u001b[0m     filtered_tb \u001b[39m=\u001b[39m _process_traceback_frames(e\u001b[39m.\u001b[39m__traceback__)\n",
      "File \u001b[1;32md:\\codes\\PHAR\\.venv\\lib\\site-packages\\keras\\engine\\training.py:1564\u001b[0m, in \u001b[0;36mModel.fit\u001b[1;34m(self, x, y, batch_size, epochs, verbose, callbacks, validation_split, validation_data, shuffle, class_weight, sample_weight, initial_epoch, steps_per_epoch, validation_steps, validation_batch_size, validation_freq, max_queue_size, workers, use_multiprocessing)\u001b[0m\n\u001b[0;32m   1556\u001b[0m \u001b[39mwith\u001b[39;00m tf\u001b[39m.\u001b[39mprofiler\u001b[39m.\u001b[39mexperimental\u001b[39m.\u001b[39mTrace(\n\u001b[0;32m   1557\u001b[0m     \u001b[39m\"\u001b[39m\u001b[39mtrain\u001b[39m\u001b[39m\"\u001b[39m,\n\u001b[0;32m   1558\u001b[0m     epoch_num\u001b[39m=\u001b[39mepoch,\n\u001b[1;32m   (...)\u001b[0m\n\u001b[0;32m   1561\u001b[0m     _r\u001b[39m=\u001b[39m\u001b[39m1\u001b[39m,\n\u001b[0;32m   1562\u001b[0m ):\n\u001b[0;32m   1563\u001b[0m     callbacks\u001b[39m.\u001b[39mon_train_batch_begin(step)\n\u001b[1;32m-> 1564\u001b[0m     tmp_logs \u001b[39m=\u001b[39m \u001b[39mself\u001b[39;49m\u001b[39m.\u001b[39;49mtrain_function(iterator)\n\u001b[0;32m   1565\u001b[0m     \u001b[39mif\u001b[39;00m data_handler\u001b[39m.\u001b[39mshould_sync:\n\u001b[0;32m   1566\u001b[0m         context\u001b[39m.\u001b[39masync_wait()\n",
      "File \u001b[1;32md:\\codes\\PHAR\\.venv\\lib\\site-packages\\tensorflow\\python\\util\\traceback_utils.py:150\u001b[0m, in \u001b[0;36mfilter_traceback.<locals>.error_handler\u001b[1;34m(*args, **kwargs)\u001b[0m\n\u001b[0;32m    148\u001b[0m filtered_tb \u001b[39m=\u001b[39m \u001b[39mNone\u001b[39;00m\n\u001b[0;32m    149\u001b[0m \u001b[39mtry\u001b[39;00m:\n\u001b[1;32m--> 150\u001b[0m   \u001b[39mreturn\u001b[39;00m fn(\u001b[39m*\u001b[39margs, \u001b[39m*\u001b[39m\u001b[39m*\u001b[39mkwargs)\n\u001b[0;32m    151\u001b[0m \u001b[39mexcept\u001b[39;00m \u001b[39mException\u001b[39;00m \u001b[39mas\u001b[39;00m e:\n\u001b[0;32m    152\u001b[0m   filtered_tb \u001b[39m=\u001b[39m _process_traceback_frames(e\u001b[39m.\u001b[39m__traceback__)\n",
      "File \u001b[1;32md:\\codes\\PHAR\\.venv\\lib\\site-packages\\tensorflow\\python\\eager\\def_function.py:915\u001b[0m, in \u001b[0;36mFunction.__call__\u001b[1;34m(self, *args, **kwds)\u001b[0m\n\u001b[0;32m    912\u001b[0m compiler \u001b[39m=\u001b[39m \u001b[39m\"\u001b[39m\u001b[39mxla\u001b[39m\u001b[39m\"\u001b[39m \u001b[39mif\u001b[39;00m \u001b[39mself\u001b[39m\u001b[39m.\u001b[39m_jit_compile \u001b[39melse\u001b[39;00m \u001b[39m\"\u001b[39m\u001b[39mnonXla\u001b[39m\u001b[39m\"\u001b[39m\n\u001b[0;32m    914\u001b[0m \u001b[39mwith\u001b[39;00m OptionalXlaContext(\u001b[39mself\u001b[39m\u001b[39m.\u001b[39m_jit_compile):\n\u001b[1;32m--> 915\u001b[0m   result \u001b[39m=\u001b[39m \u001b[39mself\u001b[39m\u001b[39m.\u001b[39m_call(\u001b[39m*\u001b[39margs, \u001b[39m*\u001b[39m\u001b[39m*\u001b[39mkwds)\n\u001b[0;32m    917\u001b[0m new_tracing_count \u001b[39m=\u001b[39m \u001b[39mself\u001b[39m\u001b[39m.\u001b[39mexperimental_get_tracing_count()\n\u001b[0;32m    918\u001b[0m without_tracing \u001b[39m=\u001b[39m (tracing_count \u001b[39m==\u001b[39m new_tracing_count)\n",
      "File \u001b[1;32md:\\codes\\PHAR\\.venv\\lib\\site-packages\\tensorflow\\python\\eager\\def_function.py:947\u001b[0m, in \u001b[0;36mFunction._call\u001b[1;34m(self, *args, **kwds)\u001b[0m\n\u001b[0;32m    944\u001b[0m   \u001b[39mself\u001b[39m\u001b[39m.\u001b[39m_lock\u001b[39m.\u001b[39mrelease()\n\u001b[0;32m    945\u001b[0m   \u001b[39m# In this case we have created variables on the first call, so we run the\u001b[39;00m\n\u001b[0;32m    946\u001b[0m   \u001b[39m# defunned version which is guaranteed to never create variables.\u001b[39;00m\n\u001b[1;32m--> 947\u001b[0m   \u001b[39mreturn\u001b[39;00m \u001b[39mself\u001b[39m\u001b[39m.\u001b[39m_stateless_fn(\u001b[39m*\u001b[39margs, \u001b[39m*\u001b[39m\u001b[39m*\u001b[39mkwds)  \u001b[39m# pylint: disable=not-callable\u001b[39;00m\n\u001b[0;32m    948\u001b[0m \u001b[39melif\u001b[39;00m \u001b[39mself\u001b[39m\u001b[39m.\u001b[39m_stateful_fn \u001b[39mis\u001b[39;00m \u001b[39mnot\u001b[39;00m \u001b[39mNone\u001b[39;00m:\n\u001b[0;32m    949\u001b[0m   \u001b[39m# Release the lock early so that multiple threads can perform the call\u001b[39;00m\n\u001b[0;32m    950\u001b[0m   \u001b[39m# in parallel.\u001b[39;00m\n\u001b[0;32m    951\u001b[0m   \u001b[39mself\u001b[39m\u001b[39m.\u001b[39m_lock\u001b[39m.\u001b[39mrelease()\n",
      "File \u001b[1;32md:\\codes\\PHAR\\.venv\\lib\\site-packages\\tensorflow\\python\\eager\\function.py:2496\u001b[0m, in \u001b[0;36mFunction.__call__\u001b[1;34m(self, *args, **kwargs)\u001b[0m\n\u001b[0;32m   2493\u001b[0m \u001b[39mwith\u001b[39;00m \u001b[39mself\u001b[39m\u001b[39m.\u001b[39m_lock:\n\u001b[0;32m   2494\u001b[0m   (graph_function,\n\u001b[0;32m   2495\u001b[0m    filtered_flat_args) \u001b[39m=\u001b[39m \u001b[39mself\u001b[39m\u001b[39m.\u001b[39m_maybe_define_function(args, kwargs)\n\u001b[1;32m-> 2496\u001b[0m \u001b[39mreturn\u001b[39;00m graph_function\u001b[39m.\u001b[39;49m_call_flat(\n\u001b[0;32m   2497\u001b[0m     filtered_flat_args, captured_inputs\u001b[39m=\u001b[39;49mgraph_function\u001b[39m.\u001b[39;49mcaptured_inputs)\n",
      "File \u001b[1;32md:\\codes\\PHAR\\.venv\\lib\\site-packages\\tensorflow\\python\\eager\\function.py:1862\u001b[0m, in \u001b[0;36mConcreteFunction._call_flat\u001b[1;34m(self, args, captured_inputs, cancellation_manager)\u001b[0m\n\u001b[0;32m   1858\u001b[0m possible_gradient_type \u001b[39m=\u001b[39m gradients_util\u001b[39m.\u001b[39mPossibleTapeGradientTypes(args)\n\u001b[0;32m   1859\u001b[0m \u001b[39mif\u001b[39;00m (possible_gradient_type \u001b[39m==\u001b[39m gradients_util\u001b[39m.\u001b[39mPOSSIBLE_GRADIENT_TYPES_NONE\n\u001b[0;32m   1860\u001b[0m     \u001b[39mand\u001b[39;00m executing_eagerly):\n\u001b[0;32m   1861\u001b[0m   \u001b[39m# No tape is watching; skip to running the function.\u001b[39;00m\n\u001b[1;32m-> 1862\u001b[0m   \u001b[39mreturn\u001b[39;00m \u001b[39mself\u001b[39m\u001b[39m.\u001b[39m_build_call_outputs(\u001b[39mself\u001b[39;49m\u001b[39m.\u001b[39;49m_inference_function\u001b[39m.\u001b[39;49mcall(\n\u001b[0;32m   1863\u001b[0m       ctx, args, cancellation_manager\u001b[39m=\u001b[39;49mcancellation_manager))\n\u001b[0;32m   1864\u001b[0m forward_backward \u001b[39m=\u001b[39m \u001b[39mself\u001b[39m\u001b[39m.\u001b[39m_select_forward_and_backward_functions(\n\u001b[0;32m   1865\u001b[0m     args,\n\u001b[0;32m   1866\u001b[0m     possible_gradient_type,\n\u001b[0;32m   1867\u001b[0m     executing_eagerly)\n\u001b[0;32m   1868\u001b[0m forward_function, args_with_tangents \u001b[39m=\u001b[39m forward_backward\u001b[39m.\u001b[39mforward()\n",
      "File \u001b[1;32md:\\codes\\PHAR\\.venv\\lib\\site-packages\\tensorflow\\python\\eager\\function.py:499\u001b[0m, in \u001b[0;36m_EagerDefinedFunction.call\u001b[1;34m(self, ctx, args, cancellation_manager)\u001b[0m\n\u001b[0;32m    497\u001b[0m \u001b[39mwith\u001b[39;00m _InterpolateFunctionError(\u001b[39mself\u001b[39m):\n\u001b[0;32m    498\u001b[0m   \u001b[39mif\u001b[39;00m cancellation_manager \u001b[39mis\u001b[39;00m \u001b[39mNone\u001b[39;00m:\n\u001b[1;32m--> 499\u001b[0m     outputs \u001b[39m=\u001b[39m execute\u001b[39m.\u001b[39;49mexecute(\n\u001b[0;32m    500\u001b[0m         \u001b[39mstr\u001b[39;49m(\u001b[39mself\u001b[39;49m\u001b[39m.\u001b[39;49msignature\u001b[39m.\u001b[39;49mname),\n\u001b[0;32m    501\u001b[0m         num_outputs\u001b[39m=\u001b[39;49m\u001b[39mself\u001b[39;49m\u001b[39m.\u001b[39;49m_num_outputs,\n\u001b[0;32m    502\u001b[0m         inputs\u001b[39m=\u001b[39;49margs,\n\u001b[0;32m    503\u001b[0m         attrs\u001b[39m=\u001b[39;49mattrs,\n\u001b[0;32m    504\u001b[0m         ctx\u001b[39m=\u001b[39;49mctx)\n\u001b[0;32m    505\u001b[0m   \u001b[39melse\u001b[39;00m:\n\u001b[0;32m    506\u001b[0m     outputs \u001b[39m=\u001b[39m execute\u001b[39m.\u001b[39mexecute_with_cancellation(\n\u001b[0;32m    507\u001b[0m         \u001b[39mstr\u001b[39m(\u001b[39mself\u001b[39m\u001b[39m.\u001b[39msignature\u001b[39m.\u001b[39mname),\n\u001b[0;32m    508\u001b[0m         num_outputs\u001b[39m=\u001b[39m\u001b[39mself\u001b[39m\u001b[39m.\u001b[39m_num_outputs,\n\u001b[1;32m   (...)\u001b[0m\n\u001b[0;32m    511\u001b[0m         ctx\u001b[39m=\u001b[39mctx,\n\u001b[0;32m    512\u001b[0m         cancellation_manager\u001b[39m=\u001b[39mcancellation_manager)\n",
      "File \u001b[1;32md:\\codes\\PHAR\\.venv\\lib\\site-packages\\tensorflow\\python\\eager\\execute.py:54\u001b[0m, in \u001b[0;36mquick_execute\u001b[1;34m(op_name, num_outputs, inputs, attrs, ctx, name)\u001b[0m\n\u001b[0;32m     52\u001b[0m \u001b[39mtry\u001b[39;00m:\n\u001b[0;32m     53\u001b[0m   ctx\u001b[39m.\u001b[39mensure_initialized()\n\u001b[1;32m---> 54\u001b[0m   tensors \u001b[39m=\u001b[39m pywrap_tfe\u001b[39m.\u001b[39;49mTFE_Py_Execute(ctx\u001b[39m.\u001b[39;49m_handle, device_name, op_name,\n\u001b[0;32m     55\u001b[0m                                       inputs, attrs, num_outputs)\n\u001b[0;32m     56\u001b[0m \u001b[39mexcept\u001b[39;00m core\u001b[39m.\u001b[39m_NotOkStatusException \u001b[39mas\u001b[39;00m e:\n\u001b[0;32m     57\u001b[0m   \u001b[39mif\u001b[39;00m name \u001b[39mis\u001b[39;00m \u001b[39mnot\u001b[39;00m \u001b[39mNone\u001b[39;00m:\n",
      "\u001b[1;31mKeyboardInterrupt\u001b[0m: "
     ]
    }
   ],
   "source": [
    "NUM_EPOCHS = 300\n",
    "epochs = np.arange(1, NUM_EPOCHS + 1, 1)\n",
    "losses = np.zeros([NUM_EPOCHS])\n",
    "m = Model()\n",
    "\n",
    "train_ds = tf.data.Dataset.from_tensor_slices((train_X, train_Y))\n",
    "train_ds = train_ds.batch(BATCH_SIZE)\n",
    "\n",
    "m.compile(\n",
    "  optimizer = tf.keras.optimizers.Adam(learning_rate=0.001),\n",
    "  loss=tf.keras.losses.CategoricalCrossentropy(), metrics=['accuracy']\n",
    ")\n",
    "\n",
    "def decay(epoch):\n",
    "    if epoch < 150:\n",
    "      return 0.1\n",
    "    if epoch >= 150 and epoch < 225:\n",
    "      return 0.01\n",
    "    if epoch >= 225:\n",
    "      return 0.001\n",
    "\n",
    "m.fit(train_dataset, epochs=300, validation_data=test_dataset,\n",
    "        verbose=2, callbacks=[tf.keras.callbacks.LearningRateScheduler(\n",
    "            decay)])\n"
   ]
  },
  {
   "cell_type": "code",
   "execution_count": 6,
   "metadata": {},
   "outputs": [
    {
     "data": {
      "image/png": "[encoded data removed]",
      "text/plain": [
       "<Figure size 640x480 with 1 Axes>"
      ]
     },
     "metadata": {},
     "output_type": "display_data"
    }
   ],
   "source": [
    "plt.plot(epochs, losses, label='Pre-training')\n",
    "plt.ylim([0, max(plt.ylim())])\n",
    "plt.xlabel('Epoch')\n",
    "plt.ylabel('Loss [Cross Entropy]')\n",
    "plt.legend();"
   ]
  },
  {
   "cell_type": "code",
   "execution_count": 7,
   "metadata": {},
   "outputs": [
    {
     "name": "stderr",
     "output_type": "stream",
     "text": [
      "WARNING:absl:Found untraced functions such as _jit_compiled_convolution_op, _jit_compiled_convolution_op while saving (showing 2 of 2). These functions will not be directly callable after loading.\n"
     ]
    },
    {
     "name": "stdout",
     "output_type": "stream",
     "text": [
      "INFO:tensorflow:Assets written to: saved_model\\assets\n"
     ]
    },
    {
     "name": "stderr",
     "output_type": "stream",
     "text": [
      "INFO:tensorflow:Assets written to: saved_model\\assets\n",
      "WARNING:absl:Importing a function (__inference_internal_grad_fn_71481) with ops with unsaved custom gradients. Will likely fail if a gradient is requested.\n",
      "WARNING:absl:Importing a function (__inference_internal_grad_fn_71441) with ops with unsaved custom gradients. Will likely fail if a gradient is requested.\n"
     ]
    }
   ],
   "source": [
    "SAVED_MODEL_DIR = \"saved_model\"\n",
    "\n",
    "tf.saved_model.save(\n",
    "    m,\n",
    "    SAVED_MODEL_DIR,\n",
    "    signatures={\n",
    "        'train':\n",
    "            m.train.get_concrete_function(),\n",
    "        'infer':\n",
    "            m.infer.get_concrete_function(),\n",
    "        'save':\n",
    "            m.save.get_concrete_function(),\n",
    "        'restore':\n",
    "            m.restore.get_concrete_function(),\n",
    "    })\n",
    "\n",
    "# Convert the model\n",
    "converter = tf.lite.TFLiteConverter.from_saved_model(SAVED_MODEL_DIR)\n",
    "converter.target_spec.supported_ops = [\n",
    "    tf.lite.OpsSet.TFLITE_BUILTINS,  # enable TensorFlow Lite ops.\n",
    "    tf.lite.OpsSet.SELECT_TF_OPS  # enable TensorFlow ops.\n",
    "]\n",
    "converter.experimental_enable_resource_variables = True\n",
    "tflite_model = converter.convert()"
   ]
  },
  {
   "cell_type": "code",
   "execution_count": 10,
   "metadata": {},
   "outputs": [],
   "source": [
    "interpreter = tf.lite.Interpreter(model_content=tflite_model)\n",
    "interpreter.allocate_tensors()\n",
    "\n",
    "infer = interpreter.get_signature_runner(\"infer\")\n",
    "\n",
    "logits_original = m.infer(x=train_X[:1])['logits'][0]\n",
    "logits_lite = infer(x=train_X[:1])['logits'][0]"
   ]
  },
  {
   "cell_type": "code",
   "execution_count": null,
   "metadata": {},
   "outputs": [],
   "source": [
    "# Save the model.\n",
    "with open('model.tflite', 'wb') as f:\n",
    "  f.write(tflite_model)"
   ]
  }
 ],
 "metadata": {
  "kernelspec": {
   "display_name": ".venv",
   "language": "python",
   "name": "python3"
  },
  "language_info": {
   "codemirror_mode": {
    "name": "ipython",
    "version": 3
   },
   "file_extension": ".py",
   "mimetype": "text/x-python",
   "name": "python",
   "nbconvert_exporter": "python",
   "pygments_lexer": "ipython3",
   "version": "3.10.9"
  },
  "orig_nbformat": 4
 },
 "nbformat": 4,
 "nbformat_minor": 2
}
